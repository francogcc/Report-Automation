{
 "cells": [
  {
   "cell_type": "code",
   "execution_count": 1,
   "id": "0de4aa42",
   "metadata": {},
   "outputs": [],
   "source": [
    "from selenium import webdriver\n",
    "from selenium.webdriver.common.keys import Keys\n",
    "from selenium.webdriver.common.by import By\n",
    "from selenium.webdriver import ActionChains\n",
    "from selenium.webdriver.chrome.options import Options\n",
    "from selenium.webdriver.support.ui import WebDriverWait\n",
    "from selenium.webdriver.support import expected_conditions as EC\n",
    "from selenium.common.exceptions import NoSuchElementException\n",
    "\n",
    "\n",
    "import unittest #Revisar por que usarlo\n",
    "import time\n",
    "\n",
    "import pandas as pd\n",
    "import numpy as np\n",
    "import requests\n",
    "from openpyxl import Workbook, load_workbook\n",
    "import xlsxwriter\n",
    "import openpyxl.formatting\n",
    "import os\n",
    "import gspread\n",
    "from oauth2client.service_account import ServiceAccountCredentials\n",
    "from pprint import pprint\n",
    "import datetime\n",
    "import pyperclip\n",
    "import xlwings as xw\n",
    "import re\n",
    "from selenium.webdriver.common.desired_capabilities import DesiredCapabilities"
   ]
  },
  {
   "cell_type": "code",
   "execution_count": 2,
   "id": "05cb7456",
   "metadata": {},
   "outputs": [],
   "source": [
    "capabilities = DesiredCapabilities().CHROME\n",
    "capabilities[\"pageLoadStrategy\"] = \"normal\""
   ]
  },
  {
   "cell_type": "code",
   "execution_count": 3,
   "id": "a227ff64",
   "metadata": {},
   "outputs": [
    {
     "name": "stderr",
     "output_type": "stream",
     "text": [
      "C:\\Users\\FRANCOGCC\\AppData\\Local\\Temp\\ipykernel_3384\\2626630630.py:1: DeprecationWarning: executable_path has been deprecated, please pass in a Service object\n",
      "  driver = webdriver.Chrome(executable_path=r'C:\\dchrome\\chromedriver.exe', desired_capabilities=capabilities)\n"
     ]
    }
   ],
   "source": [
    "driver = webdriver.Chrome(executable_path=r'C:\\dchrome\\chromedriver.exe', desired_capabilities=capabilities)\n",
    "act = ActionChains(driver)"
   ]
  },
  {
   "cell_type": "markdown",
   "id": "03d494af",
   "metadata": {},
   "source": [
    "# 1. Getting the company list from Google Sheets"
   ]
  },
  {
   "cell_type": "code",
   "execution_count": 4,
   "id": "fe26266a",
   "metadata": {},
   "outputs": [],
   "source": [
    "scope = [\"https://spreadsheets.google.com/feeds\",\"https://www.googleapis.com/auth/spreadsheets\",\"https://www.googleapis.com/auth/drive.file\",\"https://www.googleapis.com/auth/drive\"]"
   ]
  },
  {
   "cell_type": "code",
   "execution_count": 5,
   "id": "24757c92",
   "metadata": {},
   "outputs": [],
   "source": [
    "creds = ServiceAccountCredentials.from_json_keyfile_name('ratios-financieros-fd451d89fc01.json', scope)"
   ]
  },
  {
   "cell_type": "code",
   "execution_count": 6,
   "id": "ad22a2a7",
   "metadata": {},
   "outputs": [],
   "source": [
    "client = gspread.authorize(creds)"
   ]
  },
  {
   "cell_type": "code",
   "execution_count": 7,
   "id": "bdea57ea",
   "metadata": {},
   "outputs": [],
   "source": [
    "sheet_acciones = client.open(\"Seguimiento Acciones\").sheet1"
   ]
  },
  {
   "cell_type": "code",
   "execution_count": 8,
   "id": "af037367",
   "metadata": {},
   "outputs": [],
   "source": [
    "companyNames = sheet_acciones.col_values(1)\n",
    "del companyNames[0]"
   ]
  },
  {
   "cell_type": "markdown",
   "id": "8adaabda",
   "metadata": {},
   "source": [
    "# 2. Copying TIKR information"
   ]
  },
  {
   "cell_type": "code",
   "execution_count": 9,
   "id": "9460bb75",
   "metadata": {},
   "outputs": [],
   "source": [
    "webpage = 'https://app.tikr.com/login'"
   ]
  },
  {
   "cell_type": "code",
   "execution_count": 10,
   "id": "b1fdca9e",
   "metadata": {},
   "outputs": [],
   "source": [
    "username = 'francocarlinicamaiora@gmail.com'\n",
    "password = 'Vindelicorum14+'"
   ]
  },
  {
   "cell_type": "code",
   "execution_count": 11,
   "id": "8389eeda",
   "metadata": {},
   "outputs": [],
   "source": [
    "def search_webpage(web):\n",
    "    driver.get(web)\n",
    "    time.sleep(3)"
   ]
  },
  {
   "cell_type": "code",
   "execution_count": 12,
   "id": "ddf593e9",
   "metadata": {},
   "outputs": [],
   "source": [
    "def login(user, pw):\n",
    "    access_username = driver.find_element(By.ID, 'input-12')\n",
    "    access_username.send_keys(user)\n",
    "\n",
    "    access_password = driver.find_element(By.ID, 'input-15')\n",
    "    access_password.send_keys(pw)\n",
    "\n",
    "    access_password.send_keys(Keys.ENTER)\n",
    "    time.sleep(5)"
   ]
  },
  {
   "cell_type": "code",
   "execution_count": 13,
   "id": "5f958050",
   "metadata": {},
   "outputs": [],
   "source": [
    "def search_company(companies):\n",
    "    driver.find_element(By.XPATH, '//*[@id=\"app\"]/div[1]/header/div/div[1]/div/div[1]').click()\n",
    "    time.sleep(2)\n",
    "    buscar_por_xpath = driver.find_element(By.XPATH, '/html/body/div[1]/div/div/div[1]/header/div/div[1]/div/div[1]/div[1]/div[1]/input')\n",
    "    time.sleep(2)\n",
    "    buscar_por_xpath.send_keys(companies)\n",
    "    time.sleep(3)\n",
    "    buscar_por_xpath.send_keys(Keys.ENTER)\n",
    "    time.sleep(4)\n",
    "    driver.find_element(By.XPATH, '//*[@id=\"app\"]/div[1]/nav/div[1]/div/div[2]/div[2]/a[1]/div[2]').click()\n",
    "    time.sleep(3)"
   ]
  },
  {
   "cell_type": "code",
   "execution_count": 14,
   "id": "27f39edf",
   "metadata": {},
   "outputs": [],
   "source": [
    "def get_stock_sector():\n",
    "    time.sleep(2)\n",
    "    sector = driver.find_element(By.XPATH, '//*[@id=\"app\"]/div[1]/main/div/div/div[2]/div[2]/div/div/div[1]/div[1]/span/b').text\n",
    "    return(sector)"
   ]
  },
  {
   "cell_type": "code",
   "execution_count": 15,
   "id": "ab95871f",
   "metadata": {},
   "outputs": [],
   "source": [
    "def access_IS():\n",
    "    driver.find_element(By.XPATH, '//*[@id=\"stocktabbar\"]/div/div[2]/div/a[3]').click()\n",
    "    time.sleep(5)\n",
    "    html = driver.page_source\n",
    "    time.sleep(3)\n",
    "    tables = pd.read_html(html)\n",
    "    IS_TIKR = tables[0]\n",
    "    time.sleep(5)\n",
    "    return(IS_TIKR)"
   ]
  },
  {
   "cell_type": "code",
   "execution_count": 16,
   "id": "5e0bcb60",
   "metadata": {},
   "outputs": [],
   "source": [
    "def access_BS():\n",
    "    driver.find_element(By.XPATH, '/html/body/div[1]/div/div/div[1]/main/div/div/div[2]/div/div/div[3]/div/div/div/div[1]/div/div/div[2]/div/div[3]').click()\n",
    "    time.sleep(4)\n",
    "    html = driver.page_source\n",
    "    time.sleep(3)\n",
    "    tables = pd.read_html(html)\n",
    "    BS_TIKR = tables[0]\n",
    "    time.sleep(3)\n",
    "    return(BS_TIKR)"
   ]
  },
  {
   "cell_type": "code",
   "execution_count": 17,
   "id": "053487d2",
   "metadata": {},
   "outputs": [],
   "source": [
    "def access_CF():\n",
    "    driver.find_element(By.XPATH, '//*[@id=\"app\"]/div[1]/main/div/div/div[2]/div/div/div[3]/div/div/div/div[1]/div/div/div[2]/div/div[4]').click()\n",
    "    time.sleep(4)\n",
    "    html = driver.page_source\n",
    "    time.sleep(3)\n",
    "    tables = pd.read_html(html)\n",
    "    CF_TIKR = tables[0]\n",
    "    time.sleep(1)\n",
    "\n",
    "    return(CF_TIKR)"
   ]
  },
  {
   "cell_type": "code",
   "execution_count": 18,
   "id": "ebe9d299",
   "metadata": {},
   "outputs": [],
   "source": [
    "def get_stock_price(): \n",
    "    stock_price = driver.find_element(By.XPATH, '//*[@id=\"app\"]/div[1]/main/div/div/div[1]/div[1]/div/div/div/div[2]/span[1]').text\n",
    "    \n",
    "    # Remove all characters before the money symbol character from string\n",
    "    stock_coin = ''.join([i for i in stock_price if not i.isdigit()])\n",
    "    stock_coin = stock_coin.removesuffix('.')\n",
    "    stock_number_value = pd.to_numeric(''.join([i for i in stock_price if i.isdigit()]))/100 # TIKR tiene los precios con 2 decimales\n",
    "\n",
    "    \n",
    "    return([stock_number_value, stock_coin])"
   ]
  },
  {
   "cell_type": "code",
   "execution_count": 19,
   "id": "03afd42d",
   "metadata": {},
   "outputs": [],
   "source": [
    "def tikr_NTM_PER():\n",
    "    valuation = driver.find_element(By.XPATH, '//*[@id=\"stocktabbar\"]/div/div[2]/div/a[4]').click()\n",
    "    time.sleep(4)\n",
    "    html = driver.page_source\n",
    "    time.sleep(6)\n",
    "    tables = pd.read_html(html)\n",
    "    Multiples_table = tables[0]\n",
    "    Multiples_table.set_index(Multiples_table[Multiples_table.columns[0]].values, inplace=True)\n",
    "    tikr_PER = Multiples_table.loc['NTM Price / Normalized Earnings (P/E)'][-1]\n",
    "    tikr_PER = pd.to_numeric(''.join([i for i in tikr_PER if i.isdigit()]))/100 # TIKR tiene los PER con 1 decimal\n",
    "    time.sleep(1)\n",
    "\n",
    "    return(tikr_PER)"
   ]
  },
  {
   "cell_type": "markdown",
   "id": "919226a9",
   "metadata": {},
   "source": [
    "### 2.1. Access TIKR"
   ]
  },
  {
   "cell_type": "code",
   "execution_count": 20,
   "id": "bf2c3e9b",
   "metadata": {},
   "outputs": [],
   "source": [
    "search_webpage(web=webpage)"
   ]
  },
  {
   "cell_type": "code",
   "execution_count": 21,
   "id": "167135fb",
   "metadata": {},
   "outputs": [],
   "source": [
    "login(user=username, pw=password)"
   ]
  },
  {
   "cell_type": "markdown",
   "id": "b23fa78d",
   "metadata": {},
   "source": [
    "### 2.2. Get info from TIKR"
   ]
  },
  {
   "cell_type": "code",
   "execution_count": 22,
   "id": "5c8cf8e0",
   "metadata": {},
   "outputs": [],
   "source": [
    "sector_list = []\n",
    "tikr_PER_list = []\n",
    "excel_docs = []"
   ]
  },
  {
   "cell_type": "code",
   "execution_count": 37,
   "id": "dc6c1b41",
   "metadata": {},
   "outputs": [
    {
     "name": "stdout",
     "output_type": "stream",
     "text": [
      "['Acciones 3M Company.xlsx', 'Acciones Adidas.xlsx', 'Acciones Albertsons Companies, Inc..xlsx', 'Acciones Alphabet Inc..xlsx', 'Acciones Balchem Corp.xlsx', 'Acciones CarMax.xlsx', 'Acciones Charles Schwab.xlsx', 'Acciones Colliers.xlsx', 'Acciones Concentrix Corporation.xlsx', 'Acciones Constellation Brands, Inc..xlsx', 'Acciones Constellation Software.xlsx', 'Acciones Converge Technology Solutions Corp..xlsx', 'Acciones CoStar Group, Inc..xlsx', 'Acciones Credit Acceptance Corporation.xlsx', 'Acciones Danaher Corporation.xlsx', 'Acciones Dell Technologies Inc..xlsx', 'Acciones Dr. Ing. h.c. F. Porsche AG.xlsx', 'Acciones Dye and Durham Limited.xlsx', 'Acciones EdiliziAcrobatica S.p.A..xlsx', 'Acciones Elevance Health.xlsx', 'Acciones Eli Lilly and Company.xlsx', 'Acciones Equifax.xlsx', 'Acciones Experian.xlsx', 'Acciones Fiserv, Inc..xlsx', 'Acciones Five Below.xlsx', 'Acciones Gartner.xlsx', 'Acciones GDI Integrated Facility Services Inc..xlsx', 'Acciones GK Software SE.xlsx', 'Acciones goeasy Ltd..xlsx', 'Acciones H&R Block, Inc..xlsx', 'Acciones Halma plc.xlsx', 'Acciones Hermès International Société en commandite par actions.xlsx', 'Acciones International Money Express.xlsx', 'Acciones Iron Mountain Incorporated.xlsx', 'Acciones Judges Scientific plc.xlsx', 'Acciones KBR inc..xlsx', 'Acciones Lifco.xlsx', 'Acciones LKQ Corporation.xlsx', 'Acciones Louis Vuitton.xlsx', \"Acciones Lowe's Companies, Inc..xlsx\", 'Acciones Línea Directa Aseguradora, S.A..xlsx', 'Acciones Malibu Boats, Inc..xlsx', 'Acciones Marlowe plc.xlsx', 'Acciones McKesson Corporation.xlsx', 'Acciones Moncler S.p.A..xlsx', 'Acciones MTY Food Group Inc..xlsx', 'Acciones Nagarro SE.xlsx', 'Acciones Nexstar Media Group, Inc..xlsx', 'Acciones Nike.xlsx', 'Acciones NVIDIA Corporation.xlsx', 'Acciones Oracle Corporation.xlsx', 'Acciones Qualys, Inc..xlsx', 'Acciones RediShred.xlsx', 'Acciones Robertet SA.xlsx', 'Acciones Roper Technologies, Inc..xlsx', 'Acciones Sales Force.xlsx', 'Acciones Sangoma.xlsx', 'Acciones Scotts Miracle-Gro.xlsx', 'Acciones SDI Group PLC.xlsx', 'Acciones Sherwin-Williams.xlsx', 'Acciones Snap-on.xlsx', 'Acciones TD SYNNEX Corporation.xlsx', 'Acciones Teleperformance.xlsx', 'Acciones The Clorox Company.xlsx', 'Acciones The Progressive Corporation.xlsx', 'Acciones TransUnion.xlsx', 'Acciones Ulta Beauty, Inc..xlsx', 'Acciones Verisk Analytics.xlsx', 'Acciones Willscot Mobile Mini Holdings Corp.xlsx', 'Acciones XPEL, Inc..xlsx']\n"
     ]
    }
   ],
   "source": [
    "# Nombre de todos los excels con las acciones evaluadas\n",
    "mypath = r'C:\\Users\\FRANCOGCC\\Documents\\FRANCO\\Acciones\\Acciones de Segumiento\\Stocks'\n",
    "\n",
    "arr = os.listdir(f'{mypath}')"
   ]
  },
  {
   "cell_type": "code",
   "execution_count": 40,
   "id": "608f8674",
   "metadata": {},
   "outputs": [],
   "source": [
    "excel_docs = [f'C:\\\\Users\\\\FRANCOGCC\\\\Documents\\\\FRANCO\\\\Acciones\\\\Acciones de Segumiento\\\\Stocks\\\\{x}' for x in arr]"
   ]
  },
  {
   "cell_type": "code",
   "execution_count": 24,
   "id": "9f55d34b",
   "metadata": {
    "scrolled": true
   },
   "outputs": [
    {
     "name": "stdout",
     "output_type": "stream",
     "text": [
      "2\n",
      "3\n",
      "4\n",
      "5\n",
      "6\n",
      "7\n",
      "8\n",
      "9\n",
      "10\n",
      "11\n",
      "12\n",
      "13\n",
      "14\n",
      "15\n",
      "16\n",
      "17\n",
      "18\n",
      "19\n",
      "20\n",
      "21\n",
      "22\n",
      "23\n",
      "24\n",
      "25\n",
      "26\n",
      "27\n",
      "28\n",
      "29\n",
      "30\n",
      "31\n"
     ]
    }
   ],
   "source": [
    "refresh_count = 1\n",
    "for i in companyNames:\n",
    "    if refresh_count%20 == 0:\n",
    "        driver.refresh()\n",
    "        time.sleep(10)\n",
    "        \n",
    "    if f'Acciones {i}.xlsx' not in arr:    \n",
    "        \n",
    "        search_company(companies = i)\n",
    "        sector_list.append(get_stock_sector())    \n",
    "        if get_stock_sector() == 'REIT' or get_stock_sector() == 'Financial':\n",
    "            pass\n",
    "\n",
    "        else:\n",
    "            IS = access_IS()\n",
    "            BS = access_BS()\n",
    "            CF = access_CF()\n",
    "            stock_price = get_stock_price()\n",
    "            tikr_PER_list.append(tikr_NTM_PER())\n",
    "\n",
    "            nombre_archivo = 'Plantilla Valoración IDC 2022 v2_ TIKR - Plantilla Base.xlsx'\n",
    "            wb = xw.Book(nombre_archivo)\n",
    "            ws_valuation = wb.sheets['4.Valoración']\n",
    "            ws_IS = wb.sheets['6.TIKR_IS']\n",
    "            ws_BS = wb.sheets['7.TIKR_BS']\n",
    "            ws_CF = wb.sheets['8.TIKR_CF']\n",
    "\n",
    "\n",
    "            # Paste the three financial statements considering that newer companies do not have data starting in 2016\n",
    "            if len(IS.columns) == 7:\n",
    "\n",
    "                ws_IS[\"A1\"].options(pd.DataFrame, header=1, index=False, expand='table').value = pd.DataFrame(IS.iloc[:, 0])\n",
    "                ws_IS[\"C1\"].options(pd.DataFrame, header=1, index=False, expand='table').value = pd.DataFrame(IS.iloc[:, 1:])\n",
    "\n",
    "                ws_BS[\"A1\"].options(pd.DataFrame, header=1, index=False, expand='table').value = pd.DataFrame(BS.iloc[:, 0])\n",
    "                ws_BS[\"C1\"].options(pd.DataFrame, header=1, index=False, expand='table').value = pd.DataFrame(BS.iloc[:, 1:])\n",
    "\n",
    "                ws_CF[\"A1\"].options(pd.DataFrame, header=1, index=False, expand='table').value = pd.DataFrame(CF.iloc[:, 0])\n",
    "                ws_CF[\"C1\"].options(pd.DataFrame, header=1, index=False, expand='table').value = pd.DataFrame(CF.iloc[:, 1:])\n",
    "\n",
    "            elif len(IS.columns) == 6:\n",
    "\n",
    "                ws_IS[\"A1\"].options(pd.DataFrame, header=1, index=False, expand='table').value = pd.DataFrame(IS.iloc[:, 0])\n",
    "                ws_IS[\"D1\"].options(pd.DataFrame, header=1, index=False, expand='table').value = pd.DataFrame(IS.iloc[:, 1:])\n",
    "\n",
    "                ws_BS[\"A1\"].options(pd.DataFrame, header=1, index=False, expand='table').value = pd.DataFrame(BS.iloc[:, 0])        \n",
    "                ws_BS[\"D1\"].options(pd.DataFrame, header=1, index=False, expand='table').value = pd.DataFrame(BS.iloc[:, 1:])\n",
    "\n",
    "                ws_CF[\"A1\"].options(pd.DataFrame, header=1, index=False, expand='table').value = pd.DataFrame(CF.iloc[:, 0])\n",
    "                ws_CF[\"D1\"].options(pd.DataFrame, header=1, index=False, expand='table').value = pd.DataFrame(CF.iloc[:, 1:])\n",
    "\n",
    "            elif len(IS.columns) == 5:\n",
    "\n",
    "                ws_IS[\"A1\"].options(pd.DataFrame, header=1, index=False, expand='table').value = pd.DataFrame(IS.iloc[:, 0])\n",
    "                ws_IS[\"E1\"].options(pd.DataFrame, header=1, index=False, expand='table').value = pd.DataFrame(IS.iloc[:, 1:])\n",
    "\n",
    "                ws_BS[\"A1\"].options(pd.DataFrame, header=1, index=False, expand='table').value = pd.DataFrame(BS.iloc[:, 0])        \n",
    "                ws_BS[\"E1\"].options(pd.DataFrame, header=1, index=False, expand='table').value = pd.DataFrame(BS.iloc[:, 1:])\n",
    "\n",
    "                ws_CF[\"A1\"].options(pd.DataFrame, header=1, index=False, expand='table').value = pd.DataFrame(CF.iloc[:, 0])\n",
    "                ws_CF[\"E1\"].options(pd.DataFrame, header=1, index=False, expand='table').value = pd.DataFrame(CF.iloc[:, 1:])\n",
    "\n",
    "            else:\n",
    "                ws_IS[\"A1\"].options(pd.DataFrame, header=1, index=False, expand='table').value = IS\n",
    "                ws_BS[\"A1\"].options(pd.DataFrame, header=1, index=False, expand='table').value = BS\n",
    "                ws_CF[\"A1\"].options(pd.DataFrame, header=1, index=False, expand='table').value = CF\n",
    "\n",
    "            ws_valuation[\"D12\"].value = stock_price[0]\n",
    "            ws_valuation[\"E12\"].value = stock_price[1]\n",
    "\n",
    "\n",
    "\n",
    "            # Save Excel file with current day and time\n",
    "            #today = datetime.datetime.today()\n",
    "            #today = today.strftime(\"%d-%m-%Y  %H-%M-%S\")\n",
    "\n",
    "            wb.save()\n",
    "            wb.save(f'{mypath}\\Acciones {i}.xlsx')# {today}.xlsx')\n",
    "            wb.close()\n",
    "\n",
    "        refresh_count += 1\n",
    "    else:\n",
    "        pass"
   ]
  },
  {
   "cell_type": "markdown",
   "id": "4d6e09fe",
   "metadata": {},
   "source": [
    "# Pasting tables into Excel"
   ]
  },
  {
   "cell_type": "code",
   "execution_count": 25,
   "id": "535f23f5",
   "metadata": {},
   "outputs": [],
   "source": [
    "#nombre_archivo = 'Plantilla Valoración IDC 2022 v2_ TIKR - Plantilla Base.xlsx'"
   ]
  },
  {
   "cell_type": "code",
   "execution_count": 26,
   "id": "73c15fff",
   "metadata": {},
   "outputs": [],
   "source": [
    "#wb = xw.Book(nombre_archivo)"
   ]
  },
  {
   "cell_type": "code",
   "execution_count": 27,
   "id": "be5715bd",
   "metadata": {},
   "outputs": [],
   "source": [
    "# ws_valuation = wb.sheets['4.Valoración']\n",
    "# ws_IS = wb.sheets['6.TIKR_IS']\n",
    "# ws_BS = wb.sheets['7.TIKR_BS']\n",
    "# ws_CF = wb.sheets['8.TIKR_CF']"
   ]
  },
  {
   "cell_type": "code",
   "execution_count": 28,
   "id": "746afa00",
   "metadata": {},
   "outputs": [],
   "source": [
    "#ws_IS[\"A1\"].options(pd.DataFrame, header=1, index=False, expand='table').value = IS"
   ]
  },
  {
   "cell_type": "code",
   "execution_count": 29,
   "id": "c4ba53d4",
   "metadata": {},
   "outputs": [],
   "source": [
    "#ws_BS[\"A1\"].options(pd.DataFrame, header=1, index=False, expand='table').value = BS"
   ]
  },
  {
   "cell_type": "code",
   "execution_count": 30,
   "id": "fcb22302",
   "metadata": {},
   "outputs": [],
   "source": [
    "#ws_CF[\"A1\"].options(pd.DataFrame, header=1, index=False, expand='table').value = CF"
   ]
  },
  {
   "cell_type": "code",
   "execution_count": 31,
   "id": "cc9b1515",
   "metadata": {},
   "outputs": [],
   "source": [
    "#ws_valuation[\"D12\"].value = stock_price"
   ]
  },
  {
   "cell_type": "markdown",
   "id": "a9a5b970",
   "metadata": {},
   "source": [
    "# Pulling data from Excel into Google Sheets"
   ]
  },
  {
   "cell_type": "code",
   "execution_count": 32,
   "id": "cc28db4f",
   "metadata": {},
   "outputs": [],
   "source": [
    "mypath = os.getcwd()"
   ]
  },
  {
   "cell_type": "code",
   "execution_count": 42,
   "id": "1e16e9d2",
   "metadata": {},
   "outputs": [
    {
     "name": "stdout",
     "output_type": "stream",
     "text": [
      "C:\\Users\\FRANCOGCC\\Documents\\FRANCO\\Acciones\\Acciones de Segumiento\\Stocks\\Acciones 3M Company.xlsx\n"
     ]
    },
    {
     "name": "stderr",
     "output_type": "stream",
     "text": [
      "C:\\Users\\FRANCOGCC\\AppData\\Local\\Temp\\ipykernel_3384\\1582385069.py:13: DeprecationWarning: Call to deprecated function get_sheet_by_name (Use wb[sheetname]).\n",
      "  ws_valuation = wb.get_sheet_by_name('4.Valoración')\n"
     ]
    },
    {
     "name": "stdout",
     "output_type": "stream",
     "text": [
      "C:\\Users\\FRANCOGCC\\Documents\\FRANCO\\Acciones\\Acciones de Segumiento\\Stocks\\Acciones Adidas.xlsx\n",
      "C:\\Users\\FRANCOGCC\\Documents\\FRANCO\\Acciones\\Acciones de Segumiento\\Stocks\\Acciones Albertsons Companies, Inc..xlsx\n",
      "C:\\Users\\FRANCOGCC\\Documents\\FRANCO\\Acciones\\Acciones de Segumiento\\Stocks\\Acciones Alphabet Inc..xlsx\n",
      "C:\\Users\\FRANCOGCC\\Documents\\FRANCO\\Acciones\\Acciones de Segumiento\\Stocks\\Acciones Balchem Corp.xlsx\n",
      "C:\\Users\\FRANCOGCC\\Documents\\FRANCO\\Acciones\\Acciones de Segumiento\\Stocks\\Acciones CarMax.xlsx\n",
      "C:\\Users\\FRANCOGCC\\Documents\\FRANCO\\Acciones\\Acciones de Segumiento\\Stocks\\Acciones Charles Schwab.xlsx\n",
      "C:\\Users\\FRANCOGCC\\Documents\\FRANCO\\Acciones\\Acciones de Segumiento\\Stocks\\Acciones Colliers.xlsx\n",
      "C:\\Users\\FRANCOGCC\\Documents\\FRANCO\\Acciones\\Acciones de Segumiento\\Stocks\\Acciones Concentrix Corporation.xlsx\n",
      "C:\\Users\\FRANCOGCC\\Documents\\FRANCO\\Acciones\\Acciones de Segumiento\\Stocks\\Acciones Constellation Brands, Inc..xlsx\n",
      "C:\\Users\\FRANCOGCC\\Documents\\FRANCO\\Acciones\\Acciones de Segumiento\\Stocks\\Acciones Constellation Software.xlsx\n",
      "C:\\Users\\FRANCOGCC\\Documents\\FRANCO\\Acciones\\Acciones de Segumiento\\Stocks\\Acciones Converge Technology Solutions Corp..xlsx\n",
      "C:\\Users\\FRANCOGCC\\Documents\\FRANCO\\Acciones\\Acciones de Segumiento\\Stocks\\Acciones CoStar Group, Inc..xlsx\n",
      "C:\\Users\\FRANCOGCC\\Documents\\FRANCO\\Acciones\\Acciones de Segumiento\\Stocks\\Acciones Credit Acceptance Corporation.xlsx\n",
      "C:\\Users\\FRANCOGCC\\Documents\\FRANCO\\Acciones\\Acciones de Segumiento\\Stocks\\Acciones Danaher Corporation.xlsx\n",
      "C:\\Users\\FRANCOGCC\\Documents\\FRANCO\\Acciones\\Acciones de Segumiento\\Stocks\\Acciones Dell Technologies Inc..xlsx\n",
      "C:\\Users\\FRANCOGCC\\Documents\\FRANCO\\Acciones\\Acciones de Segumiento\\Stocks\\Acciones Dr. Ing. h.c. F. Porsche AG.xlsx\n",
      "C:\\Users\\FRANCOGCC\\Documents\\FRANCO\\Acciones\\Acciones de Segumiento\\Stocks\\Acciones Dye and Durham Limited.xlsx\n",
      "C:\\Users\\FRANCOGCC\\Documents\\FRANCO\\Acciones\\Acciones de Segumiento\\Stocks\\Acciones EdiliziAcrobatica S.p.A..xlsx\n",
      "C:\\Users\\FRANCOGCC\\Documents\\FRANCO\\Acciones\\Acciones de Segumiento\\Stocks\\Acciones Elevance Health.xlsx\n",
      "C:\\Users\\FRANCOGCC\\Documents\\FRANCO\\Acciones\\Acciones de Segumiento\\Stocks\\Acciones Eli Lilly and Company.xlsx\n",
      "C:\\Users\\FRANCOGCC\\Documents\\FRANCO\\Acciones\\Acciones de Segumiento\\Stocks\\Acciones Equifax.xlsx\n",
      "C:\\Users\\FRANCOGCC\\Documents\\FRANCO\\Acciones\\Acciones de Segumiento\\Stocks\\Acciones Experian.xlsx\n",
      "C:\\Users\\FRANCOGCC\\Documents\\FRANCO\\Acciones\\Acciones de Segumiento\\Stocks\\Acciones Fiserv, Inc..xlsx\n",
      "C:\\Users\\FRANCOGCC\\Documents\\FRANCO\\Acciones\\Acciones de Segumiento\\Stocks\\Acciones Five Below.xlsx\n",
      "C:\\Users\\FRANCOGCC\\Documents\\FRANCO\\Acciones\\Acciones de Segumiento\\Stocks\\Acciones Gartner.xlsx\n",
      "C:\\Users\\FRANCOGCC\\Documents\\FRANCO\\Acciones\\Acciones de Segumiento\\Stocks\\Acciones GDI Integrated Facility Services Inc..xlsx\n",
      "C:\\Users\\FRANCOGCC\\Documents\\FRANCO\\Acciones\\Acciones de Segumiento\\Stocks\\Acciones GK Software SE.xlsx\n",
      "C:\\Users\\FRANCOGCC\\Documents\\FRANCO\\Acciones\\Acciones de Segumiento\\Stocks\\Acciones goeasy Ltd..xlsx\n",
      "C:\\Users\\FRANCOGCC\\Documents\\FRANCO\\Acciones\\Acciones de Segumiento\\Stocks\\Acciones H&R Block, Inc..xlsx\n",
      "C:\\Users\\FRANCOGCC\\Documents\\FRANCO\\Acciones\\Acciones de Segumiento\\Stocks\\Acciones Halma plc.xlsx\n",
      "C:\\Users\\FRANCOGCC\\Documents\\FRANCO\\Acciones\\Acciones de Segumiento\\Stocks\\Acciones Hermès International Société en commandite par actions.xlsx\n",
      "C:\\Users\\FRANCOGCC\\Documents\\FRANCO\\Acciones\\Acciones de Segumiento\\Stocks\\Acciones International Money Express.xlsx\n",
      "C:\\Users\\FRANCOGCC\\Documents\\FRANCO\\Acciones\\Acciones de Segumiento\\Stocks\\Acciones Iron Mountain Incorporated.xlsx\n",
      "C:\\Users\\FRANCOGCC\\Documents\\FRANCO\\Acciones\\Acciones de Segumiento\\Stocks\\Acciones Judges Scientific plc.xlsx\n",
      "C:\\Users\\FRANCOGCC\\Documents\\FRANCO\\Acciones\\Acciones de Segumiento\\Stocks\\Acciones KBR inc..xlsx\n",
      "C:\\Users\\FRANCOGCC\\Documents\\FRANCO\\Acciones\\Acciones de Segumiento\\Stocks\\Acciones Lifco.xlsx\n",
      "C:\\Users\\FRANCOGCC\\Documents\\FRANCO\\Acciones\\Acciones de Segumiento\\Stocks\\Acciones LKQ Corporation.xlsx\n",
      "C:\\Users\\FRANCOGCC\\Documents\\FRANCO\\Acciones\\Acciones de Segumiento\\Stocks\\Acciones Louis Vuitton.xlsx\n",
      "C:\\Users\\FRANCOGCC\\Documents\\FRANCO\\Acciones\\Acciones de Segumiento\\Stocks\\Acciones Lowe's Companies, Inc..xlsx\n",
      "C:\\Users\\FRANCOGCC\\Documents\\FRANCO\\Acciones\\Acciones de Segumiento\\Stocks\\Acciones Línea Directa Aseguradora, S.A..xlsx\n",
      "C:\\Users\\FRANCOGCC\\Documents\\FRANCO\\Acciones\\Acciones de Segumiento\\Stocks\\Acciones Malibu Boats, Inc..xlsx\n",
      "C:\\Users\\FRANCOGCC\\Documents\\FRANCO\\Acciones\\Acciones de Segumiento\\Stocks\\Acciones Marlowe plc.xlsx\n",
      "C:\\Users\\FRANCOGCC\\Documents\\FRANCO\\Acciones\\Acciones de Segumiento\\Stocks\\Acciones McKesson Corporation.xlsx\n",
      "C:\\Users\\FRANCOGCC\\Documents\\FRANCO\\Acciones\\Acciones de Segumiento\\Stocks\\Acciones Moncler S.p.A..xlsx\n",
      "C:\\Users\\FRANCOGCC\\Documents\\FRANCO\\Acciones\\Acciones de Segumiento\\Stocks\\Acciones MTY Food Group Inc..xlsx\n",
      "C:\\Users\\FRANCOGCC\\Documents\\FRANCO\\Acciones\\Acciones de Segumiento\\Stocks\\Acciones Nagarro SE.xlsx\n",
      "C:\\Users\\FRANCOGCC\\Documents\\FRANCO\\Acciones\\Acciones de Segumiento\\Stocks\\Acciones Nexstar Media Group, Inc..xlsx\n",
      "C:\\Users\\FRANCOGCC\\Documents\\FRANCO\\Acciones\\Acciones de Segumiento\\Stocks\\Acciones Nike.xlsx\n",
      "C:\\Users\\FRANCOGCC\\Documents\\FRANCO\\Acciones\\Acciones de Segumiento\\Stocks\\Acciones NVIDIA Corporation.xlsx\n",
      "C:\\Users\\FRANCOGCC\\Documents\\FRANCO\\Acciones\\Acciones de Segumiento\\Stocks\\Acciones Oracle Corporation.xlsx\n",
      "C:\\Users\\FRANCOGCC\\Documents\\FRANCO\\Acciones\\Acciones de Segumiento\\Stocks\\Acciones Qualys, Inc..xlsx\n",
      "C:\\Users\\FRANCOGCC\\Documents\\FRANCO\\Acciones\\Acciones de Segumiento\\Stocks\\Acciones RediShred.xlsx\n",
      "C:\\Users\\FRANCOGCC\\Documents\\FRANCO\\Acciones\\Acciones de Segumiento\\Stocks\\Acciones Robertet SA.xlsx\n",
      "C:\\Users\\FRANCOGCC\\Documents\\FRANCO\\Acciones\\Acciones de Segumiento\\Stocks\\Acciones Roper Technologies, Inc..xlsx\n",
      "C:\\Users\\FRANCOGCC\\Documents\\FRANCO\\Acciones\\Acciones de Segumiento\\Stocks\\Acciones Sales Force.xlsx\n",
      "C:\\Users\\FRANCOGCC\\Documents\\FRANCO\\Acciones\\Acciones de Segumiento\\Stocks\\Acciones Sangoma.xlsx\n",
      "C:\\Users\\FRANCOGCC\\Documents\\FRANCO\\Acciones\\Acciones de Segumiento\\Stocks\\Acciones Scotts Miracle-Gro.xlsx\n",
      "C:\\Users\\FRANCOGCC\\Documents\\FRANCO\\Acciones\\Acciones de Segumiento\\Stocks\\Acciones SDI Group PLC.xlsx\n",
      "C:\\Users\\FRANCOGCC\\Documents\\FRANCO\\Acciones\\Acciones de Segumiento\\Stocks\\Acciones Sherwin-Williams.xlsx\n",
      "C:\\Users\\FRANCOGCC\\Documents\\FRANCO\\Acciones\\Acciones de Segumiento\\Stocks\\Acciones Snap-on.xlsx\n",
      "C:\\Users\\FRANCOGCC\\Documents\\FRANCO\\Acciones\\Acciones de Segumiento\\Stocks\\Acciones TD SYNNEX Corporation.xlsx\n",
      "C:\\Users\\FRANCOGCC\\Documents\\FRANCO\\Acciones\\Acciones de Segumiento\\Stocks\\Acciones Teleperformance.xlsx\n",
      "C:\\Users\\FRANCOGCC\\Documents\\FRANCO\\Acciones\\Acciones de Segumiento\\Stocks\\Acciones The Clorox Company.xlsx\n",
      "C:\\Users\\FRANCOGCC\\Documents\\FRANCO\\Acciones\\Acciones de Segumiento\\Stocks\\Acciones The Progressive Corporation.xlsx\n",
      "C:\\Users\\FRANCOGCC\\Documents\\FRANCO\\Acciones\\Acciones de Segumiento\\Stocks\\Acciones TransUnion.xlsx\n",
      "C:\\Users\\FRANCOGCC\\Documents\\FRANCO\\Acciones\\Acciones de Segumiento\\Stocks\\Acciones Ulta Beauty, Inc..xlsx\n",
      "C:\\Users\\FRANCOGCC\\Documents\\FRANCO\\Acciones\\Acciones de Segumiento\\Stocks\\Acciones Verisk Analytics.xlsx\n",
      "C:\\Users\\FRANCOGCC\\Documents\\FRANCO\\Acciones\\Acciones de Segumiento\\Stocks\\Acciones Willscot Mobile Mini Holdings Corp.xlsx\n",
      "C:\\Users\\FRANCOGCC\\Documents\\FRANCO\\Acciones\\Acciones de Segumiento\\Stocks\\Acciones XPEL, Inc..xlsx\n"
     ]
    }
   ],
   "source": [
    "Deuda_EBITDA = []\n",
    "PER = []\n",
    "EV_FCF = []\n",
    "CAGR_PER = []\n",
    "stock_price = []\n",
    "stock_currency = []\n",
    "stock_sector = []\n",
    "\n",
    "for i in excel_docs:    \n",
    "    path = i\n",
    "    wb = openpyxl.load_workbook(path, data_only=True)\n",
    "    ws_valuation = wb.get_sheet_by_name('4.Valoración')\n",
    "    \n",
    "    try: \n",
    "        Deuda_EBITDA.append(round(ws_valuation[\"H5\"].value, 1))\n",
    "        PER.append(round(ws_valuation[\"D15\"].value, 1))\n",
    "        EV_FCF.append(round(ws_valuation[\"D16\"].value, 1))\n",
    "        CAGR_PER.append(round(ws_valuation[\"J21\"].value, 2))\n",
    "        stock_price.append(round(ws_valuation[\"D12\"].value, 1))\n",
    "        stock_currency.append(ws_valuation[\"E12\"].value)\n",
    "        \n",
    "    except TypeError:\n",
    "        pass"
   ]
  },
  {
   "cell_type": "code",
   "execution_count": 43,
   "id": "f8c60323",
   "metadata": {},
   "outputs": [],
   "source": [
    "Deuda_EBITDA = pd.DataFrame(Deuda_EBITDA)\n",
    "tikr_NTM_PER = pd.DataFrame(tikr_PER_list)\n",
    "PER = pd.DataFrame(PER)\n",
    "EV_FCF = pd.DataFrame(EV_FCF)\n",
    "CAGR_PER = pd.DataFrame(CAGR_PER)\n",
    "stock_price = pd.DataFrame(stock_price)\n",
    "stock_currency = pd.DataFrame(stock_currency)\n",
    "stock_sector = pd.DataFrame(sector_list)"
   ]
  },
  {
   "cell_type": "code",
   "execution_count": 44,
   "id": "17f82b7e",
   "metadata": {},
   "outputs": [
    {
     "data": {
      "text/plain": [
       "{'spreadsheetId': '1OscicmlHmWPLcoGElfuwmawUIHsoyOv0R0XKLugvbzc',\n",
       " 'updatedRange': \"'Fernando/Alejandro'!G2:G31\",\n",
       " 'updatedRows': 30,\n",
       " 'updatedColumns': 1,\n",
       " 'updatedCells': 30}"
      ]
     },
     "execution_count": 44,
     "metadata": {},
     "output_type": "execute_result"
    }
   ],
   "source": [
    "sheet_acciones.update('H2:H', Deuda_EBITDA.values.tolist())\n",
    "sheet_acciones.update('I2:I', tikr_NTM_PER.values.tolist())\n",
    "sheet_acciones.update('J2:J', PER.values.tolist())\n",
    "sheet_acciones.update('K2:K',EV_FCF.values.tolist())\n",
    "sheet_acciones.update('L2:L', CAGR_PER.values.tolist())\n",
    "sheet_acciones.update('M2:M', stock_price.values.tolist())\n",
    "sheet_acciones.update('N2:N', stock_currency.values.tolist())\n",
    "sheet_acciones.update('G2:G', stock_sector.values.tolist())"
   ]
  }
 ],
 "metadata": {
  "kernelspec": {
   "display_name": "Python 3 (ipykernel)",
   "language": "python",
   "name": "python3"
  },
  "language_info": {
   "codemirror_mode": {
    "name": "ipython",
    "version": 3
   },
   "file_extension": ".py",
   "mimetype": "text/x-python",
   "name": "python",
   "nbconvert_exporter": "python",
   "pygments_lexer": "ipython3",
   "version": "3.9.12"
  }
 },
 "nbformat": 4,
 "nbformat_minor": 5
}
